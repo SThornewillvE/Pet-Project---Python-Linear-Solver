{
 "cells": [
  {
   "cell_type": "markdown",
   "metadata": {},
   "source": [
    "# Python Linear Optimization Solver\n",
    "\n",
    "This is a python file with an implementation of a solver for the problem outlined in `solver.xlsx`"
   ]
  },
  {
   "cell_type": "code",
   "execution_count": 1,
   "metadata": {},
   "outputs": [],
   "source": [
    "# Import packages\n",
    "import numpy as np\n",
    "from pulp import *"
   ]
  },
  {
   "cell_type": "markdown",
   "metadata": {},
   "source": [
    "When doing these kinds of calculations, we tend to do a lot of \"dot product\"-like operations and so I thought that maybe numpy would come in handy here.\n",
    "\n",
    "First, we need to define a problem. Note that the name `CandyDiet` is completely arbitrary. I was misled by thinking that it was a predefined problem.\n",
    "\n",
    "We also need to define what we want to do with out program, do we want to maximise or minimise our target?"
   ]
  },
  {
   "cell_type": "code",
   "execution_count": 2,
   "metadata": {},
   "outputs": [],
   "source": [
    "# Create LP Problem\n",
    "prob = pulp.LpProblem('CandyDiet', pulp.LpMinimize)"
   ]
  },
  {
   "cell_type": "markdown",
   "metadata": {},
   "source": [
    "Afterwards, we want to define the independent variables that we can change. These are called out decision variables. After passing a name we also want to give our minimum and maximum values and pass what kind of a variable it is."
   ]
  },
  {
   "cell_type": "code",
   "execution_count": 3,
   "metadata": {},
   "outputs": [],
   "source": [
    "# Define Decision Variables\n",
    "x1 = LpVariable(\"brownies\", 0, None, LpInteger)\n",
    "x2 = LpVariable(\"ice_cream\", 0, None, LpInteger)\n",
    "x3 = LpVariable(\"cola\", 0, None, LpInteger)\n",
    "x4 = LpVariable(\"cheese_cake\", 0, None, LpInteger)"
   ]
  },
  {
   "cell_type": "markdown",
   "metadata": {},
   "source": [
    "Aferwards, I want to wrap all of these variables up into a vector for easy use in dot-product operations."
   ]
  },
  {
   "cell_type": "code",
   "execution_count": 4,
   "metadata": {},
   "outputs": [
    {
     "data": {
      "text/plain": [
       "array([brownies, ice_cream, cola, cheese_cake], dtype=object)"
      ]
     },
     "execution_count": 4,
     "metadata": {},
     "output_type": "execute_result"
    }
   ],
   "source": [
    "# Define Variable Vector\n",
    "xvars = np.array([x1, x2, x3, x4])\n",
    "\n",
    "xvars"
   ]
  },
  {
   "cell_type": "markdown",
   "metadata": {},
   "source": [
    "Now that we've defined our variables, we want to devine our costs for each variable. We just need to make sure that the cost associated with each variable is in the same order as we defined them, else there will be a missmatch because our variable and the cost.\n",
    "\n",
    "Next, we just dot-product the two vectors together and give it a name."
   ]
  },
  {
   "cell_type": "code",
   "execution_count": 5,
   "metadata": {},
   "outputs": [],
   "source": [
    "# Define a cost vector\n",
    "cost_vec = np.array([50,20,30,80])\n",
    "\n",
    "# Add Objective Function\n",
    "prob += xvars.dot(cost_vec), \"Total Cost\""
   ]
  },
  {
   "cell_type": "markdown",
   "metadata": {},
   "source": [
    "Now we need to define our constraints. For each food we are using there is a nutritional value that we want to observe. Note that they should appear in the same order and then we need to consider if we want it to be above or below a certain value, as seen below:"
   ]
  },
  {
   "cell_type": "code",
   "execution_count": 6,
   "metadata": {},
   "outputs": [],
   "source": [
    "# Define contraint vectors\n",
    "calories = np.array([400, 200, 150, 500])\n",
    "choc = np.array([3, 2, 0, 0])\n",
    "sugar = np.array([2, 2, 4, 4])\n",
    "fat = np.array([2, 4, 1, 5])\n",
    "\n",
    "# Add contraints\n",
    "prob += xvars.dot(calories) >= 750, \"Min Calories\"\n",
    "prob += xvars.dot(choc) >= 6, \"Min Chocolate\"\n",
    "prob += xvars.dot(sugar) >= 10, \"Min Sugar\"\n",
    "prob += xvars.dot(fat) >= 13, \"Min Fat\""
   ]
  },
  {
   "cell_type": "markdown",
   "metadata": {},
   "source": [
    "Now that we've completely defined our problem, we just can solve and print out the values.\n",
    "\n",
    "Note that this is a relatively simple problem for demonstration purposes. Still, now we can solve problems of this kind without needing to access proprietary GUIs like Excel. "
   ]
  },
  {
   "cell_type": "code",
   "execution_count": 9,
   "metadata": {},
   "outputs": [
    {
     "name": "stdout",
     "output_type": "stream",
     "text": [
      "Status:  Optimal\n",
      "brownies = 0.0\n",
      "cheese_cake = 0.0\n",
      "cola = 1.0\n",
      "ice_cream = 3.0\n"
     ]
    }
   ],
   "source": [
    "# Solve Problem\n",
    "if prob.solve():  # Note that prob.solve() will be 1 if the solution converges else 0\n",
    "    print(\"Status: \", LpStatus[prob.status])\n",
    "    for v in prob.variables():\n",
    "        print(v.name, \"=\", v.varValue)\n",
    "else: print(\"No Solution Found.\")"
   ]
  }
 ],
 "metadata": {
  "kernelspec": {
   "display_name": "Python 3",
   "language": "python",
   "name": "python3"
  },
  "language_info": {
   "codemirror_mode": {
    "name": "ipython",
    "version": 3
   },
   "file_extension": ".py",
   "mimetype": "text/x-python",
   "name": "python",
   "nbconvert_exporter": "python",
   "pygments_lexer": "ipython3",
   "version": "3.6.6"
  }
 },
 "nbformat": 4,
 "nbformat_minor": 2
}
